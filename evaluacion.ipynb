{
 "cells": [
  {
   "cell_type": "code",
   "execution_count": 2,
   "metadata": {},
   "outputs": [],
   "source": [
    "class TiendaOnline :\n",
    "    \n",
    "    def __init__(self): #atributos\n",
    "        self.inventario = []\n",
    "        self.clientes = {}\n",
    "        self.ventas_totales = 0.0\n",
    "\n",
    "    def agregar_productos(self, nombre, precio, cantidad):\n",
    "        pass"
   ]
  },
  {
   "cell_type": "code",
   "execution_count": 3,
   "metadata": {},
   "outputs": [],
   "source": [
    "list_prueba = []\n",
    "\n",
    "def agregar_producto(nombre, precio, cantidad):\n",
    "    # Creo un diccionario con la información de cada producto\n",
    "    dic_prueba = {'nombre': nombre, 'precio': precio, 'cantidad': cantidad}\n",
    "\n",
    "    # Revisar si el producto ya existe en la lista\n",
    "    for producto in list_prueba:\n",
    "        if producto['nombre'] == nombre:\n",
    "            # Si el producto ya existe, sumar la cantidad existente\n",
    "            producto['cantidad'] += cantidad\n",
    "            print(f\"El producto {nombre} ya existe, ahora tenemos {producto['cantidad']}.\")\n",
    "            break #Lo usamos para detener el bucle, ya que ha encontrado el producto a actualizar\n",
    "    else:\n",
    "        # Si no existe, agregar el nuevo producto a la lista\n",
    "        list_prueba.append(dic_prueba)\n",
    "        print(f\"El producto {nombre} se ha agregado al inventario.\")"
   ]
  },
  {
   "cell_type": "code",
   "execution_count": 4,
   "metadata": {},
   "outputs": [
    {
     "name": "stdout",
     "output_type": "stream",
     "text": [
      "El producto boligrafo se ha agregado al inventario.\n"
     ]
    }
   ],
   "source": [
    "agregar_producto(\"boligrafo\", 1.5, 10)"
   ]
  },
  {
   "cell_type": "code",
   "execution_count": 5,
   "metadata": {},
   "outputs": [
    {
     "name": "stdout",
     "output_type": "stream",
     "text": [
      "El producto boligrafo ya existe, ahora tenemos 13.\n"
     ]
    }
   ],
   "source": [
    "agregar_producto(\"boligrafo\", 1.50, 3)"
   ]
  },
  {
   "cell_type": "code",
   "execution_count": 6,
   "metadata": {},
   "outputs": [
    {
     "name": "stdout",
     "output_type": "stream",
     "text": [
      "El producto cuadernos se ha agregado al inventario.\n"
     ]
    }
   ],
   "source": [
    "agregar_producto(\"cuadernos\", 2.00, 2)"
   ]
  },
  {
   "cell_type": "code",
   "execution_count": 7,
   "metadata": {},
   "outputs": [
    {
     "name": "stdout",
     "output_type": "stream",
     "text": [
      "El producto sacapuntas se ha agregado al inventario.\n"
     ]
    }
   ],
   "source": [
    "agregar_producto(\"sacapuntas\", 0.95, 54)"
   ]
  },
  {
   "cell_type": "code",
   "execution_count": 8,
   "metadata": {},
   "outputs": [
    {
     "name": "stdout",
     "output_type": "stream",
     "text": [
      "El producto sacapuntas ya existe, ahora tenemos 58.\n"
     ]
    }
   ],
   "source": [
    "agregar_producto(\"sacapuntas\", 0.95, 4)"
   ]
  },
  {
   "cell_type": "code",
   "execution_count": 81,
   "metadata": {},
   "outputs": [
    {
     "data": {
      "text/plain": [
       "<function list.clear()>"
      ]
     },
     "execution_count": 81,
     "metadata": {},
     "output_type": "execute_result"
    }
   ],
   "source": [
    "list_prueba.clear"
   ]
  },
  {
   "cell_type": "code",
   "execution_count": 9,
   "metadata": {},
   "outputs": [
    {
     "data": {
      "text/plain": [
       "[{'nombre': 'boligrafo', 'precio': 1.5, 'cantidad': 13},\n",
       " {'nombre': 'cuadernos', 'precio': 2.0, 'cantidad': 2},\n",
       " {'nombre': 'sacapuntas', 'precio': 0.95, 'cantidad': 58}]"
      ]
     },
     "execution_count": 9,
     "metadata": {},
     "output_type": "execute_result"
    }
   ],
   "source": [
    "list_prueba"
   ]
  }
 ],
 "metadata": {
  "kernelspec": {
   "display_name": "base",
   "language": "python",
   "name": "python3"
  },
  "language_info": {
   "codemirror_mode": {
    "name": "ipython",
    "version": 3
   },
   "file_extension": ".py",
   "mimetype": "text/x-python",
   "name": "python",
   "nbconvert_exporter": "python",
   "pygments_lexer": "ipython3",
   "version": "3.12.4"
  }
 },
 "nbformat": 4,
 "nbformat_minor": 2
}
