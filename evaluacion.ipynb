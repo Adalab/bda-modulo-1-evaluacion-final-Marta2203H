{
 "cells": [
  {
   "cell_type": "code",
   "execution_count": 7,
   "metadata": {},
   "outputs": [],
   "source": [
    "class TiendaOnline :\n",
    "    \n",
    "    def __init__(self): #atributos\n",
    "        self.inventario = []\n",
    "        self.clientes = {}\n",
    "        self.ventas_totales = 0.0\n",
    "\n",
    "    def agregar_productos(self, nombre, precio, cantidad):\n",
    "        pass"
   ]
  },
  {
   "cell_type": "code",
   "execution_count": 8,
   "metadata": {},
   "outputs": [],
   "source": [
    "list_prueba = []\n",
    "\n",
    "\n",
    "def agregar_producto(nombre, precio, cantidad):\n",
    "\n",
    "    dic_prueba = {'nombre': nombre, 'precio': precio, 'cantidad': cantidad}\n",
    "\n",
    "    list_prueba.append(dic_prueba)\n",
    "\n",
    "    for i in list_prueba:\n",
    "            \n",
    "            if i[\"nombre\"] == nombre:\n",
    "                 \n",
    "                 i[\"cantidad\"] += cantidad\n",
    "                \n",
    "        \n",
    "            print(f\"El producto {\"nombre\"} ya existe, ahora tenemos {cantidad}\")\n",
    "            break\n",
    "    else:\n",
    "    \n",
    "        dic_prueba[nombre] = [nombre, precio, cantidad]\n",
    "\n",
    "        print(\"el producto se ha agregado\")\n",
    "  \n",
    "\n",
    "    #crear bucle for para encontrar nombre "
   ]
  },
  {
   "cell_type": "code",
   "execution_count": 9,
   "metadata": {},
   "outputs": [
    {
     "name": "stdout",
     "output_type": "stream",
     "text": [
      "El producto nombre ya existe, ahora tenemos 2\n"
     ]
    }
   ],
   "source": [
    "agregar_producto(\"pera\", 0.55, 2)"
   ]
  },
  {
   "cell_type": "code",
   "execution_count": 10,
   "metadata": {},
   "outputs": [
    {
     "name": "stdout",
     "output_type": "stream",
     "text": [
      "El producto nombre ya existe, ahora tenemos 3\n"
     ]
    }
   ],
   "source": [
    "agregar_producto(\"pera\", 0.55, 3)"
   ]
  },
  {
   "cell_type": "code",
   "execution_count": 11,
   "metadata": {},
   "outputs": [
    {
     "data": {
      "text/plain": [
       "[{'nombre': 'pera', 'precio': 0.55, 'cantidad': 7},\n",
       " {'nombre': 'pera', 'precio': 0.55, 'cantidad': 3}]"
      ]
     },
     "execution_count": 11,
     "metadata": {},
     "output_type": "execute_result"
    }
   ],
   "source": [
    "list_prueba"
   ]
  }
 ],
 "metadata": {
  "kernelspec": {
   "display_name": "base",
   "language": "python",
   "name": "python3"
  },
  "language_info": {
   "codemirror_mode": {
    "name": "ipython",
    "version": 3
   },
   "file_extension": ".py",
   "mimetype": "text/x-python",
   "name": "python",
   "nbconvert_exporter": "python",
   "pygments_lexer": "ipython3",
   "version": "3.12.4"
  }
 },
 "nbformat": 4,
 "nbformat_minor": 2
}
