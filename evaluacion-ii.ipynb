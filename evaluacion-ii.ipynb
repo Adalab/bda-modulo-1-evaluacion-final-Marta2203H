{
 "cells": [
  {
   "cell_type": "code",
   "execution_count": 17,
   "metadata": {},
   "outputs": [],
   "source": [
    "class TiendaOnline :\n",
    "    ## Crear el método constructor\n",
    "    def __init__(self): #atributos\n",
    "        self.inventario = []\n",
    "        self.clientes = {}\n",
    "        self.ventas_totales = 0.0\n",
    "\n",
    "#agregar métodos    \n",
    "\n",
    "    def agregar_producto(self, nombre, precio, cantidad):\n",
    "        # Creo un diccionario con la información de cada producto\n",
    "        dic_prod = {'nombre': nombre, 'precio': precio, 'cantidad': cantidad}\n",
    "\n",
    "        #Itera la lista de inventario y revisa si el producto ya existe en la lista\n",
    "        for producto in self.inventario:\n",
    "            if producto['nombre'] == nombre:\n",
    "            # Si el producto ya existe, sumar la cantidad existente\n",
    "                producto['cantidad'] += cantidad\n",
    "                print(f\"El producto {nombre} ya existe, ahora tenemos {producto['cantidad']}.\")\n",
    "                break #Lo usamos para detener el bucle, ya que ha encontrado el producto a actualizar\n",
    "        else:\n",
    "            # Si no existe, agregar el nuevo producto a la lista\n",
    "            self.inventario.append(dic_prod)\n",
    "            print(f\"El producto {nombre} se ha agregado al inventario.\")\n",
    "            \n",
    "    def ver_inventario(self):\n",
    "        # Bucle for para recorrer el inventario\n",
    "        for producto in self.inventario:\n",
    "            # Imprimir detalles del producto\n",
    "            print(producto)\n",
    "            \n",
    "    def buscar_productos(self, nombre):\n",
    "    \n",
    "        self.nombre = nombre\n",
    "        for producto in self.inventario: # Compara los nombres de los productos con el nombre proporcionado.\n",
    "            if nombre == producto[\"nombre\"]: # Si el nombre coincide con la clave nombre \n",
    "                print(f\"nombre: {producto[\"nombre\"]}, precio: ${producto[\"precio\"]}, cantidad: {producto[\"cantidad\"]}\") # Si se encuentra el producto, imprime sus detalles.\n",
    "                break\n",
    "            \n",
    "        else:\n",
    "            print(f\"El producto {self.nombre} no existe en el inventario\")\n",
    "    \n",
    "    def actualizar_stock(self, nombre, cantidad):\n",
    "       \n",
    "        for producto in self.inventario: #Busca el producto en el inventario (itera)\n",
    "            if nombre == producto[\"nombre\"]:\n",
    "                #Si el producto existe, actualiza la cantidad dada\n",
    "                producto[\"cantidad\"] = cantidad\n",
    "                print(f\"El producto {nombre} está en el inventario. Su nueva cantidad es: {cantidad}\")\n",
    "                break\n",
    "        else:\n",
    "            print(f\"El producto {nombre} no existe en el inventario\") \n",
    "\n",
    "    def eliminar_producto (self, nombre):\n",
    "        \n",
    "        for producto in self.inventario:\n",
    "            if nombre == producto[\"nombre\"]: #si el producto existe que lo elimine, con .remove(elimina la primera aparición de un elemento)\n",
    "                self.inventario.remove(producto)\n",
    "                print(f\"El producto {nombre} se ha eliminado\")\n",
    "                return # Para el bucle cuando elimine el producto que buscamos y lo guarda\n",
    "        else:\n",
    "            print(f\"El producto {nombre} no está en el inventario\")\n",
    "\n",
    "    def calcular_valor_inventario (self):\n",
    "        valor_total = 0 #Creo variable para ir sumando los valores por producto\n",
    "        for producto in self.inventario:\n",
    "            valor_producto = producto [\"precio\"] * producto [\"cantidad\"] #Calculamos el valor del producto\n",
    "            valor_total += valor_producto #Sumamos el valor de cada producto\n",
    "        \n",
    "        return f\"El valor total del inventario es {valor_total}\"\n",
    "    \n",
    "    def realiza_compra (self):\n",
    "\n",
    "        self.compra_cliente = [] #creo una lista para meter, lo que compra el cliente\n",
    "\n",
    "        while True:\n",
    "            #imprimir inventario\n",
    "            print(\"Inventario:\")\n",
    "\n",
    "            eleccion_cliente = input(\"¿Qué deseas comprar?\"): #No sé seguir.\n",
    "             \n",
    "            \n",
    "        "
   ]
  },
  {
   "cell_type": "code",
   "execution_count": 18,
   "metadata": {},
   "outputs": [],
   "source": [
    "tienda = TiendaOnline()"
   ]
  },
  {
   "cell_type": "code",
   "execution_count": 20,
   "metadata": {},
   "outputs": [
    {
     "name": "stdout",
     "output_type": "stream",
     "text": [
      "El producto camisa ya existe, ahora tenemos 40.\n"
     ]
    }
   ],
   "source": [
    "tienda.agregar_producto(\"camisa\", 20, 20)"
   ]
  },
  {
   "cell_type": "code",
   "execution_count": 21,
   "metadata": {},
   "outputs": [
    {
     "name": "stdout",
     "output_type": "stream",
     "text": [
      "El producto camisa ya existe, ahora tenemos 60.\n"
     ]
    }
   ],
   "source": [
    "tienda.agregar_producto(\"camisa\", 20, 20)"
   ]
  },
  {
   "cell_type": "code",
   "execution_count": 5,
   "metadata": {},
   "outputs": [
    {
     "name": "stdout",
     "output_type": "stream",
     "text": [
      "El producto pantalon se ha agregado al inventario.\n"
     ]
    }
   ],
   "source": [
    "tienda.agregar_producto(\"pantalon\", 30, 15)"
   ]
  },
  {
   "cell_type": "code",
   "execution_count": 6,
   "metadata": {},
   "outputs": [
    {
     "name": "stdout",
     "output_type": "stream",
     "text": [
      "El producto pantalon ya existe, ahora tenemos 30.\n"
     ]
    }
   ],
   "source": [
    "tienda.agregar_producto(\"pantalon\", 30, 15)"
   ]
  },
  {
   "cell_type": "code",
   "execution_count": 7,
   "metadata": {},
   "outputs": [
    {
     "name": "stdout",
     "output_type": "stream",
     "text": [
      "{'nombre': 'camisa', 'precio': 20, 'cantidad': 40}\n",
      "{'nombre': 'pantalon', 'precio': 30, 'cantidad': 30}\n"
     ]
    }
   ],
   "source": [
    "tienda.ver_inventario()"
   ]
  },
  {
   "cell_type": "code",
   "execution_count": 8,
   "metadata": {},
   "outputs": [
    {
     "data": {
      "text/plain": [
       "{'inventario': [{'nombre': 'camisa', 'precio': 20, 'cantidad': 40},\n",
       "  {'nombre': 'pantalon', 'precio': 30, 'cantidad': 30}],\n",
       " 'clientes': {},\n",
       " 'ventas_totales': 0.0}"
      ]
     },
     "execution_count": 8,
     "metadata": {},
     "output_type": "execute_result"
    }
   ],
   "source": [
    "tienda.__dict__ #Vemos lo que tenemos dentro de la tienda"
   ]
  },
  {
   "cell_type": "code",
   "execution_count": 9,
   "metadata": {},
   "outputs": [
    {
     "name": "stdout",
     "output_type": "stream",
     "text": [
      "nombre: camisa, precio: $20, cantidad: 40\n"
     ]
    }
   ],
   "source": [
    "tienda.buscar_productos(\"camisa\")"
   ]
  },
  {
   "cell_type": "code",
   "execution_count": 10,
   "metadata": {},
   "outputs": [
    {
     "name": "stdout",
     "output_type": "stream",
     "text": [
      "El producto pistachos no existe en el inventario\n"
     ]
    }
   ],
   "source": [
    "tienda.buscar_productos(\"pistachos\")"
   ]
  },
  {
   "cell_type": "code",
   "execution_count": 11,
   "metadata": {},
   "outputs": [
    {
     "name": "stdout",
     "output_type": "stream",
     "text": [
      "El producto camisa está en el inventario. Su nueva cantidad es: 5\n",
      "El producto pantalones no existe en el inventario\n",
      "El producto pantalon está en el inventario. Su nueva cantidad es: 12\n"
     ]
    }
   ],
   "source": [
    "tienda.actualizar_stock(\"camisa\", 5)\n",
    "tienda.actualizar_stock(\"pantalones\", 12)\n",
    "tienda.actualizar_stock(\"pantalon\", 12)"
   ]
  },
  {
   "cell_type": "code",
   "execution_count": 12,
   "metadata": {},
   "outputs": [
    {
     "name": "stdout",
     "output_type": "stream",
     "text": [
      "El producto camisa se ha eliminado\n"
     ]
    }
   ],
   "source": [
    "tienda.eliminar_producto(\"camisa\")"
   ]
  },
  {
   "cell_type": "code",
   "execution_count": 13,
   "metadata": {},
   "outputs": [
    {
     "name": "stdout",
     "output_type": "stream",
     "text": [
      "El producto zapatos no está en el inventario\n"
     ]
    }
   ],
   "source": [
    "tienda.eliminar_producto(\"zapatos\")"
   ]
  },
  {
   "cell_type": "code",
   "execution_count": 14,
   "metadata": {},
   "outputs": [
    {
     "name": "stdout",
     "output_type": "stream",
     "text": [
      "El producto pantalon se ha eliminado\n"
     ]
    }
   ],
   "source": [
    "tienda.eliminar_producto(\"pantalon\")"
   ]
  },
  {
   "cell_type": "code",
   "execution_count": 22,
   "metadata": {},
   "outputs": [
    {
     "data": {
      "text/plain": [
       "'El valor total del inventario es 1200'"
      ]
     },
     "execution_count": 22,
     "metadata": {},
     "output_type": "execute_result"
    }
   ],
   "source": [
    "tienda.calcular_valor_inventario()"
   ]
  }
 ],
 "metadata": {
  "kernelspec": {
   "display_name": "base",
   "language": "python",
   "name": "python3"
  },
  "language_info": {
   "codemirror_mode": {
    "name": "ipython",
    "version": 3
   },
   "file_extension": ".py",
   "mimetype": "text/x-python",
   "name": "python",
   "nbconvert_exporter": "python",
   "pygments_lexer": "ipython3",
   "version": "3.12.4"
  }
 },
 "nbformat": 4,
 "nbformat_minor": 2
}
