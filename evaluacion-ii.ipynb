{
 "cells": [
  {
   "cell_type": "code",
   "execution_count": 1,
   "metadata": {},
   "outputs": [],
   "source": [
    "class TiendaOnline :\n",
    "    ## Crear el método constructor\n",
    "    def __init__(self): #atributos\n",
    "        self.inventario = []\n",
    "        self.clientes = {}\n",
    "        self.ventas_totales = 0.0\n",
    "\n",
    "#agregar métodos    \n",
    "\n",
    "    def agregar_producto(self, nombre, precio, cantidad):\n",
    "        # Creo un diccionario con la información de cada producto\n",
    "        dic_prod = {'nombre': nombre, 'precio': precio, 'cantidad': cantidad}\n",
    "\n",
    "        #Itera la lista de inventario y revisa si el producto ya existe en la lista\n",
    "        for producto in self.inventario:\n",
    "            if producto['nombre'] == nombre:\n",
    "            # Si el producto ya existe, sumar la cantidad existente\n",
    "                producto['cantidad'] += cantidad\n",
    "                print(f\"El producto {nombre} ya existe, ahora tenemos {producto['cantidad']}.\")\n",
    "                break #Lo usamos para detener el bucle, ya que ha encontrado el producto a actualizar\n",
    "        else:\n",
    "            # Si no existe, agregar el nuevo producto a la lista\n",
    "            self.inventario.append(dic_prod)\n",
    "            print(f\"El producto {nombre} se ha agregado al inventario.\")\n",
    "            \n",
    "    def ver_inventario(self):\n",
    "        # Bucle for para recorrer el inventario\n",
    "        for producto in self.inventario:\n",
    "            # Imprimir detalles del producto\n",
    "            print(producto)\n",
    "\n",
    "        "
   ]
  },
  {
   "cell_type": "code",
   "execution_count": 2,
   "metadata": {},
   "outputs": [],
   "source": [
    "tienda = TiendaOnline()"
   ]
  },
  {
   "cell_type": "code",
   "execution_count": 3,
   "metadata": {},
   "outputs": [
    {
     "name": "stdout",
     "output_type": "stream",
     "text": [
      "El producto camisa se ha agregado al inventario.\n"
     ]
    }
   ],
   "source": [
    "tienda.agregar_producto(\"camisa\", 20, 20)"
   ]
  },
  {
   "cell_type": "code",
   "execution_count": 4,
   "metadata": {},
   "outputs": [
    {
     "name": "stdout",
     "output_type": "stream",
     "text": [
      "El producto camisa ya existe, ahora tenemos 40.\n"
     ]
    }
   ],
   "source": [
    "tienda.agregar_producto(\"camisa\", 20, 20)"
   ]
  },
  {
   "cell_type": "code",
   "execution_count": 5,
   "metadata": {},
   "outputs": [
    {
     "name": "stdout",
     "output_type": "stream",
     "text": [
      "El producto pantalon se ha agregado al inventario.\n"
     ]
    }
   ],
   "source": [
    "tienda.agregar_producto(\"pantalon\", 30, 15)"
   ]
  },
  {
   "cell_type": "code",
   "execution_count": 6,
   "metadata": {},
   "outputs": [
    {
     "name": "stdout",
     "output_type": "stream",
     "text": [
      "El producto pantalon ya existe, ahora tenemos 30.\n"
     ]
    }
   ],
   "source": [
    "tienda.agregar_producto(\"pantalon\", 30, 15)"
   ]
  },
  {
   "cell_type": "code",
   "execution_count": 7,
   "metadata": {},
   "outputs": [
    {
     "name": "stdout",
     "output_type": "stream",
     "text": [
      "{'nombre': 'camisa', 'precio': 20, 'cantidad': 40}\n",
      "{'nombre': 'pantalon', 'precio': 30, 'cantidad': 30}\n"
     ]
    }
   ],
   "source": [
    "tienda.ver_inventario()"
   ]
  },
  {
   "cell_type": "code",
   "execution_count": 34,
   "metadata": {},
   "outputs": [
    {
     "data": {
      "text/plain": [
       "{'inventario': [{'nombre': 'camisa', 'precio': 20, 'cantidad': 40},\n",
       "  {'nombre': 'pantalon', 'precio': 30, 'cantidad': 30}],\n",
       " 'clientes': {},\n",
       " 'ventas_totales': 0.0}"
      ]
     },
     "execution_count": 34,
     "metadata": {},
     "output_type": "execute_result"
    }
   ],
   "source": [
    "tienda.__dict__ #Vemos lo que tenemos dentro de la tienda"
   ]
  }
 ],
 "metadata": {
  "kernelspec": {
   "display_name": "base",
   "language": "python",
   "name": "python3"
  },
  "language_info": {
   "codemirror_mode": {
    "name": "ipython",
    "version": 3
   },
   "file_extension": ".py",
   "mimetype": "text/x-python",
   "name": "python",
   "nbconvert_exporter": "python",
   "pygments_lexer": "ipython3",
   "version": "3.12.4"
  }
 },
 "nbformat": 4,
 "nbformat_minor": 2
}
